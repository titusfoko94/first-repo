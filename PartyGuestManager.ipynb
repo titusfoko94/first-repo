{
  "cells": [
    {
      "cell_type": "markdown",
      "metadata": {
        "id": "view-in-github",
        "colab_type": "text"
      },
      "source": [
        "<a href=\"https://colab.research.google.com/github/titusfoko94/first-repo/blob/main/PartyGuestManager.ipynb\" target=\"_parent\"><img src=\"https://colab.research.google.com/assets/colab-badge.svg\" alt=\"Open In Colab\"/></a>"
      ]
    },
    {
      "cell_type": "code",
      "execution_count": 1,
      "metadata": {
        "colab": {
          "base_uri": "https://localhost:8080/"
        },
        "id": "UmH-vDmCjcUy",
        "outputId": "36d717f8-3228-4817-91ca-4547635de04e"
      },
      "outputs": [
        {
          "output_type": "stream",
          "name": "stdout",
          "text": [
            "Alice (Age 28) is coming to the party! Email: alice@email.com\n",
            "Bob is not on the guest list.\n",
            "David (Age 22) is coming to the party! Email: david@email.com\n",
            "\n",
            "Total number of guests: 3\n"
          ]
        }
      ],
      "source": [
        "# Step 1: Guest list initialization\n",
        "guests = {}\n",
        "\n",
        "# Step 2: Adding guests\n",
        "guests[\"Alice\"] = (28, \"alice@email.com\")\n",
        "guests[\"Bob\"] = (35, \"bob@email.com\")\n",
        "guests[\"Charlie\"] = (30, \"charlie@email.com\")\n",
        "\n",
        "# Step 3: Update the guest list\n",
        "guests[\"David\"] = (22, \"david@email.com\")  # Add David\n",
        "guests.pop(\"Bob\", None)  # Remove Bob safely\n",
        "\n",
        "# Step 4: Guest information retriever function\n",
        "def get_guest_info(guest_name):\n",
        "    if guest_name in guests:\n",
        "        age, email = guests[guest_name]\n",
        "        return f\"{guest_name} (Age {age}) is coming to the party! Email: {email}\"\n",
        "    else:\n",
        "        return f\"{guest_name} is not on the guest list.\"\n",
        "\n",
        "# Step 5: Guest counter\n",
        "def guest_count():\n",
        "    return len(guests)\n",
        "\n",
        "# ----------- Example usage -----------\n",
        "\n",
        "# Display guest info\n",
        "print(get_guest_info(\"Alice\"))\n",
        "print(get_guest_info(\"Bob\"))\n",
        "print(get_guest_info(\"David\"))\n",
        "\n",
        "# Show total number of guests\n",
        "print(f\"\\nTotal number of guests: {guest_count()}\")"
      ]
    }
  ],
  "metadata": {
    "colab": {
      "provenance": [],
      "authorship_tag": "ABX9TyMJ4cId0b7fDXvL2ZAhw3xn",
      "include_colab_link": true
    },
    "kernelspec": {
      "display_name": "Python 3",
      "name": "python3"
    },
    "language_info": {
      "name": "python"
    }
  },
  "nbformat": 4,
  "nbformat_minor": 0
}